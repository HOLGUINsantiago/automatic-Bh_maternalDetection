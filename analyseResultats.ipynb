{
 "cells": [
  {
   "attachments": {
    "image.png": {
     "image/png": "[encoded data removed]"
    }
   },
   "cell_type": "markdown",
   "id": "e5c3f00e",
   "metadata": {},
   "source": [
    "# VAEVE internship - Data Anlysis - Santiago\n",
    "\n",
    "## 1. Data extraction\n",
    "First step is aggroupating all data obtained from DeepEthogram (DEG) analysis and manual annotation. The input is in **DEG format** :\n",
    "![image.png](attachment:image.png)\n",
    "\n",
    "The script charged to do this is \"extract_data.py\"."
   ]
  },
  {
   "cell_type": "code",
   "execution_count": null,
   "id": "b636240f",
   "metadata": {},
   "outputs": [
    {
     "name": "stdout",
     "output_type": "stream",
     "text": [
      "❌ Nom de fichier inattendu: Cage1-LBN-2024-08-31_06-14-40-stereotypie_outputs_labels_predictions.csv\n",
      "✅ DataFrame final créé avec  35509836  lignes.\n"
     ]
    }
   ],
   "source": [
    "import os\n",
    "import pandas as pd\n",
    "from moviepy.editor import VideoFileClip\n",
    "import re\n",
    "from datetime import datetime as dtt\n",
    "\n",
    "def get_video_duration(file):\n",
    "    video_dir = file.replace(\"_outputs_labels_predictions.csv\", \"\")\n",
    "\n",
    "    video_filename = file.replace(\"_outputs_labels_predictions.csv\", \".mp4\")\n",
    "    video_path = os.path.join(r\"D:\\LBN\\Maternal_auto_classification_TS7_deepethogram\\DATA\", video_dir ,video_filename)\n",
    "\n",
    "    try:\n",
    "        clip = VideoFileClip(video_path)\n",
    "        return round(clip.duration, 2)\n",
    "    except Exception as e:\n",
    "        print(f\"❌ Erreur lecture vidéo {video_path}: {e}\")\n",
    "        \n",
    "\n",
    "def remove_spaces_in_filenames_and_folders(root_folder):\n",
    "    # Primero renombrar archivos en todos los subdirectorios\n",
    "    for foldername, subfolders, filenames in os.walk(root_folder, topdown=False):\n",
    "        # Renombrar archivos\n",
    "        for filename in filenames:\n",
    "            if \" \" in filename:\n",
    "                old_path = os.path.join(foldername, filename)\n",
    "                new_filename = filename.replace(\" \", \"\")\n",
    "                new_path = os.path.join(foldername, new_filename)\n",
    "                os.rename(old_path, new_path)\n",
    "                print(f\"Renamed file: '{old_path}' to '{new_path}'\")\n",
    "        # Renombrar carpetas\n",
    "        if \" \" in os.path.basename(foldername):\n",
    "            old_folder_path = foldername\n",
    "            new_folder_name = os.path.basename(foldername).replace(\" \", \"\")\n",
    "            new_folder_path = os.path.join(os.path.dirname(foldername), new_folder_name)\n",
    "            os.rename(old_folder_path, new_folder_path)\n",
    "            print(f\"Renamed folder: '{old_folder_path}' to '{new_folder_path}'\")\n",
    "\n",
    "def extract() : \n",
    "    # Le dossier racine qui contient les sous-dossiers\n",
    "    root_data_folder = r\"Maternal_auto_classification_TS7_deepethogram\\maternal_behaviour_results\"\n",
    "\n",
    "    remove_spaces_in_filenames_and_folders(root_data_folder)\n",
    "\n",
    "    final_columns = [\"frame\", \"background\", \"Onnest\", \"Offnest\", \"ABN\", \"Carryingpups\",\n",
    "                    \"Selfgrooming\", \"Eat_drink\", \"Kicking\", \"Groomingpups\", \"Build\",\n",
    "                    \"Cage\", \"LBN\", \"Recording_duration\", \"Start_time\",\n",
    "                    \"Nest_entry\", \"Nest_exits\"]\n",
    "\n",
    "    all_data = []\n",
    "\n",
    "    for subdir, _, files in os.walk(root_data_folder):\n",
    "        for file in files:\n",
    "            if file.endswith(\"outputs_labels_predictions.csv\") :\n",
    "                csv_path = os.path.join(subdir, file)\n",
    "\n",
    "                # match = re.match(r\"Cage([A-Z0-9]+)-(LBN|CONT)-([\\d\\-]+_[\\d\\-]+)_labels\\.csv\", file)\n",
    "                match = re.match(r\"Cage([A-Z0-9]+)-(LBN|CONT)-([\\d\\-]+_[\\d\\-]+)_outputs_labels_predictions\\.csv\", file)\n",
    "\n",
    "                if not match:\n",
    "                    match = re.match(r\"(LBN|CONT)?-([\\d\\-]+_[\\d\\-]+)\", file)\n",
    "\n",
    "                    if match:\n",
    "                        group, start_time = match.groups()\n",
    "                        cage = \"G\" if group == \"CONT\" else \"E\"\n",
    "                        lbn = bool(group == \"CONT\")\n",
    "                    else :\n",
    "                        print(f\"❌ Nom de fichier inattendu: {file}\")\n",
    "                        continue\n",
    "                else : \n",
    "                    cage = match.group(1)\n",
    "                    lbn = bool(match.group(2))\n",
    "                    start_time = match.group(3)\n",
    "\n",
    "                start_time = start_time.replace(\"_\", \"T\")  # Reemplazamos el guion bajo por la T\n",
    "\n",
    "                # Convertimos la cadena al formato datetime\n",
    "                start_time = dtt.strptime(start_time, \"%Y-%m-%dT%H-%M-%S\")\n",
    "                start_time = start_time.strftime(\"%Y-%m-%dT%H:%M:%S\")\n",
    "\n",
    "\n",
    "                # Ahora puedes usar strftime para obtener el formato est\n",
    "\n",
    "\n",
    "                # === Chargement du CSV ===\n",
    "                df = pd.read_csv(csv_path)\n",
    "                df.insert(0, 'frame', range(len(df)))\n",
    "                df.iloc[0] = 0\n",
    "                df = df.rename(columns={df.columns[0]: \"frame\"})  # renomme première colonne en 'frame'\n",
    "\n",
    "                duration = get_video_duration(file)\n",
    "\n",
    "                # === Ajout des colonnes constantes ===\n",
    "                df[\"Cage\"] = cage\n",
    "                df[\"LBN\"] = lbn\n",
    "                df[\"Recording_duration\"] = duration\n",
    "                df[\"Start_time\"] = start_time\n",
    "\n",
    "                df[\"Nest_entry\"] = 0\n",
    "                df[\"Nest_exits\"] = 0\n",
    "\n",
    "                # On commence à la 1re frame pour pouvoir regarder la précédente\n",
    "                for i in range(1, len(df)):\n",
    "                    prev_onnest = df.loc[i - 1, \"Onnest\"]\n",
    "                    prev_offnest = df.loc[i - 1, \"Offnest\"]\n",
    "                    curr_onnest = df.loc[i, \"Onnest\"]\n",
    "                    curr_offnest = df.loc[i, \"Offnest\"]\n",
    "\n",
    "                    # Nest entry detection\n",
    "                    if (\n",
    "                        prev_offnest == 1 and curr_onnest == 1 \n",
    "                    ):\n",
    "                        df.loc[i, \"Nest_entry\"] = 1\n",
    "\n",
    "                    # Nest exit detection\n",
    "                    if (\n",
    "                        prev_onnest == 1  and curr_offnest == 1\n",
    "                    ):\n",
    "                        df.loc[i, \"Nest_exits\"] = 1\n",
    "\n",
    "\n",
    "                # Réorganiser les colonnes\n",
    "                df = df[final_columns]\n",
    "\n",
    "                all_data.append(df)\n",
    "\n",
    "    metadata = pd.read_csv(r\"D:\\LBN\\pups_data\\juvenile\\metadatafile-juvenile-all.csv\", sep=\";\")\n",
    "    final_df = pd.concat(all_data, ignore_index=True)\n",
    "\n",
    "    metadata[\"Cage ID\"] = metadata[\"Cage ID\"].astype(str).str.strip()\n",
    "    metadata[\"PupID\"] = metadata[\"PupID\"].astype(str).str.strip()\n",
    "\n",
    "    # Fusionner avec le final_df\n",
    "    final_df[\"Cage\"] = final_df[\"Cage\"].astype(str).str.strip()\n",
    "\n",
    "    # Faire la jointure (merge) sur les cages\n",
    "    merged_df = final_df.merge(metadata, left_on=\"Cage\", right_on=\"Cage ID\", how=\"left\")\n",
    "\n",
    "    print(\"✅ DataFrame final créé avec \", len(merged_df), \" lignes.\")\n",
    "\n",
    "    merged_df.to_csv(\"maternal_data/behavioural_annotation.csv\", index=False)\n",
    "\n",
    "    return \"behavioural_annotation.csv\"\n",
    "\n",
    "datafile= extract()"
   ]
  },
  {
   "cell_type": "markdown",
   "id": "4ce7ecd1",
   "metadata": {},
   "source": [
    "## Data transforming\n",
    "Once the data has been placed on 'behavioural_annotation.csv\" by the last cell, we can start by doing the first data extraction and transformation. We are going to define an LBN  session by using the \"LbnSession\" class. This session will be defined by the **cages**, the **start and end time*.\n",
    "\n",
    "For this analysis, we'll be exploring all the pups "
   ]
  },
  {
   "cell_type": "code",
   "execution_count": 2,
   "id": "b904b77f",
   "metadata": {},
   "outputs": [
    {
     "name": "stderr",
     "output_type": "stream",
     "text": [
      "C:\\Users\\TeamGranon\\AppData\\Local\\Temp\\ipykernel_16084\\410113810.py:7: DtypeWarning: Columns (11,17,18,19,20,21,22,23) have mixed types. Specify dtype option on import or set low_memory=False.\n",
      "  allCages = pd.read_csv(\"behavioural_annotation.csv\")\n"
     ]
    },
    {
     "name": "stdout",
     "output_type": "stream",
     "text": [
      "['1', '2', '3', '6', '7', '8', '9', 'A', 'C', 'D', 'K1']\n"
     ]
    }
   ],
   "source": [
    "from classes.LbnSession import LbnSessions\n",
    "from datetime import datetime\n",
    "import pandas as pd\n",
    "import json\n",
    "import numpy as np\n",
    "\n",
    "allCages = pd.read_csv(\"behavioural_annotation.csv\")\n",
    "allCages[\"Cage\"] = allCages[\"Cage\"].astype(str).str.strip()\n",
    "allCages = allCages[\"Cage\"].unique().tolist()\n",
    "allCages = [cage for cage in allCages if cage != \"K2\"]\n",
    "print(allCages)\n",
    "dataFile = r\"D:\\LBN\\behavioural_annotation.csv\"\n",
    "\n",
    "session = LbnSessions(cage=allCages, startDate=datetime(2024,7,5), endDate=datetime(2025,7,6))"
   ]
  },
  {
   "cell_type": "markdown",
   "id": "04983907",
   "metadata": {},
   "source": [
    "We extract then some data. First a \"resultados.json\" file that will contain general information. Then a resumeDf that will contain data by day and not by frames. Indeed, this last dataframe will regroup frame data, into only one line extracting the duration and the frequencie (bouts) of each behaviour. "
   ]
  },
  {
   "cell_type": "code",
   "execution_count": 3,
   "id": "f3fc6355",
   "metadata": {},
   "outputs": [
    {
     "name": "stdout",
     "output_type": "stream",
     "text": [
      "Resume_df.csv\n"
     ]
    }
   ],
   "source": [
    "# jsonPath = session.exportResults()\n",
    "resultDf = session.getResumedDf(getCsv=True)\n"
   ]
  }
 ],
 "metadata": {
  "kernelspec": {
   "display_name": "robust_analysis",
   "language": "python",
   "name": "python3"
  },
  "language_info": {
   "codemirror_mode": {
    "name": "ipython",
    "version": 3
   },
   "file_extension": ".py",
   "mimetype": "text/x-python",
   "name": "python",
   "nbconvert_exporter": "python",
   "pygments_lexer": "ipython3",
   "version": "3.8.20"
  }
 },
 "nbformat": 4,
 "nbformat_minor": 5
}
